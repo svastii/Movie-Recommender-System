{
 "cells": [
  {
   "cell_type": "code",
   "execution_count": 6,
   "id": "58617533-aa59-4297-9498-8e551e2c2a20",
   "metadata": {},
   "outputs": [],
   "source": [
    "import pandas as pd\n",
    "from sklearn.feature_extraction.text import CountVectorizer\n",
    "from sklearn.metrics.pairwise import cosine_similarity\n",
    "import pickle\n",
    "import os"
   ]
  },
  {
   "cell_type": "code",
   "execution_count": 7,
   "id": "c4ac2503-f515-42ba-b0a1-a61b5a613ed1",
   "metadata": {},
   "outputs": [],
   "source": [
    "\n",
    "# Load the dataset\n",
    "df = pd.read_csv(r'C:\\Users\\user\\Desktop\\top10K-TMDB-movies.csv')\n",
    "\n"
   ]
  },
  {
   "cell_type": "code",
   "execution_count": 12,
   "id": "570c244a-8ec3-4bcc-a48f-3f9d0b9a2930",
   "metadata": {},
   "outputs": [
    {
     "name": "stdout",
     "output_type": "stream",
     "text": [
      "<class 'pandas.core.frame.DataFrame'>\n",
      "RangeIndex: 10000 entries, 0 to 9999\n",
      "Data columns (total 9 columns):\n",
      " #   Column             Non-Null Count  Dtype  \n",
      "---  ------             --------------  -----  \n",
      " 0   id                 10000 non-null  int64  \n",
      " 1   title              10000 non-null  object \n",
      " 2   genre              9997 non-null   object \n",
      " 3   original_language  10000 non-null  object \n",
      " 4   overview           9987 non-null   object \n",
      " 5   popularity         10000 non-null  float64\n",
      " 6   release_date       10000 non-null  object \n",
      " 7   vote_average       10000 non-null  float64\n",
      " 8   vote_count         10000 non-null  int64  \n",
      "dtypes: float64(2), int64(2), object(5)\n",
      "memory usage: 703.3+ KB\n",
      "None\n",
      "      id                        title                 genre original_language  \\\n",
      "0    278     The Shawshank Redemption           Drama,Crime                en   \n",
      "1  19404  Dilwale Dulhania Le Jayenge  Comedy,Drama,Romance                hi   \n",
      "2    238                The Godfather           Drama,Crime                en   \n",
      "3    424             Schindler's List     Drama,History,War                en   \n",
      "4    240       The Godfather: Part II           Drama,Crime                en   \n",
      "\n",
      "                                            overview  popularity release_date  \\\n",
      "0  Framed in the 1940s for the double murder of h...      94.075   1994-09-23   \n",
      "1  Raj is a rich, carefree, happy-go-lucky second...      25.408   1995-10-19   \n",
      "2  Spanning the years 1945 to 1955, a chronicle o...      90.585   1972-03-14   \n",
      "3  The true story of how businessman Oskar Schind...      44.761   1993-12-15   \n",
      "4  In the continuing saga of the Corleone crime f...      57.749   1974-12-20   \n",
      "\n",
      "   vote_average  vote_count  \n",
      "0           8.7       21862  \n",
      "1           8.7        3731  \n",
      "2           8.7       16280  \n",
      "3           8.6       12959  \n",
      "4           8.6        9811  \n"
     ]
    }
   ],
   "source": [
    "# Display dataset info\n",
    "print(df.info())\n",
    "print(df.head())"
   ]
  },
  {
   "cell_type": "code",
   "execution_count": 14,
   "id": "bd24d9d1-5389-4897-937e-4473ccd9b7a7",
   "metadata": {},
   "outputs": [
    {
     "name": "stdout",
     "output_type": "stream",
     "text": [
      "\n",
      "Combined Features Example:\n",
      "0    Drama,Crime The Shawshank Redemption Framed in...\n",
      "1    Comedy,Drama,Romance Dilwale Dulhania Le Jayen...\n",
      "2    Drama,Crime The Godfather Spanning the years 1...\n",
      "3    Drama,History,War Schindler's List The true st...\n",
      "4    Drama,Crime The Godfather: Part II In the cont...\n",
      "Name: combined_features, dtype: object\n"
     ]
    }
   ],
   "source": [
    "# Combine relevant features for recommendations\n",
    "df['combined_features'] = df['genre'] + ' ' + df['title'] + ' ' + df['overview']\n",
    "print(\"\\nCombined Features Example:\")\n",
    "print(df['combined_features'].head())"
   ]
  },
  {
   "cell_type": "code",
   "execution_count": 18,
   "id": "ecc5a9fa-80fc-4aa3-98be-765ba9f7db04",
   "metadata": {},
   "outputs": [],
   "source": [
    "df['genre'] = df['genre'].fillna(\"\")\n",
    "df['title'] = df['title'].fillna(\"\")\n",
    "df['overview'] = df['overview'].fillna(\"\")\n",
    "\n",
    "# Combine relevant features\n",
    "df['combined_features'] = df['genre'] + ' ' + df['title'] + ' ' + df['overview']\n",
    "\n",
    "# Check for empty dataset\n",
    "if df.shape[0] == 0:\n",
    "    raise ValueError(\"Dataset is empty. Please check the data.\")\n",
    "\n",
    "# Create the count matrix\n",
    "cv = CountVectorizer(stop_words='english')\n",
    "count_matrix = cv.fit_transform(df['combined_features'])\n"
   ]
  },
  {
   "cell_type": "code",
   "execution_count": 20,
   "id": "c45d3dc2-a70a-4600-b7dc-b61c7032d79b",
   "metadata": {},
   "outputs": [],
   "source": [
    "cosine_sim = cosine_similarity(count_matrix)"
   ]
  },
  {
   "cell_type": "code",
   "execution_count": null,
   "id": "402648be-4fee-42cc-b757-a6a3609e8c40",
   "metadata": {},
   "outputs": [],
   "source": [
    "# Save the similarity matrix\n",
    "with open('dataset/similarity.pkl', 'wb') as file:\n",
    "    pickle.dump(cosine_sim, file)"
   ]
  },
  {
   "cell_type": "code",
   "execution_count": null,
   "id": "a1e4144e",
   "metadata": {},
   "outputs": [],
   "source": [
    "print(\"Similarity matrix saved successfully!\")"
   ]
  }
 ],
 "metadata": {
  "kernelspec": {
   "display_name": "Python [conda env:base] *",
   "language": "python",
   "name": "conda-base-py"
  },
  "language_info": {
   "codemirror_mode": {
    "name": "ipython",
    "version": 3
   },
   "file_extension": ".py",
   "mimetype": "text/x-python",
   "name": "python",
   "nbconvert_exporter": "python",
   "pygments_lexer": "ipython3",
   "version": "3.12.4"
  }
 },
 "nbformat": 4,
 "nbformat_minor": 5
}
