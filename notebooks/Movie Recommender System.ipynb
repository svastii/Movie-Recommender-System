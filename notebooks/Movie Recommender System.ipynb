{
 "cells": [
  {
   "cell_type": "code",
   "execution_count": null,
   "id": "0575fdbd",
   "metadata": {
    "vscode": {
     "languageId": "plaintext"
    }
   },
   "outputs": [],
   "source": [
    "import pandas as pd\n",
    "from sklearn.feature_extraction.text import CountVectorizer\n",
    "from sklearn.metrics.pairwise import cosine_similarity\n",
    "import pickle\n",
    "import os"
   ]
  },
  {
   "cell_type": "code",
   "execution_count": null,
   "id": "65cc38b6",
   "metadata": {
    "vscode": {
     "languageId": "plaintext"
    }
   },
   "outputs": [],
   "source": [
    "\n",
    "# Load the dataset\n",
    "df = pd.read_csv(r'C:\\Users\\user\\Desktop\\top10K-TMDB-movies.csv')\n",
    "\n"
   ]
  },
  {
   "cell_type": "code",
   "execution_count": null,
   "id": "62efa068",
   "metadata": {
    "vscode": {
     "languageId": "plaintext"
    }
   },
   "outputs": [],
   "source": [
    "# Display dataset info\n",
    "print(df.info())\n",
    "print(df.head())"
   ]
  },
  {
   "cell_type": "code",
   "execution_count": null,
   "id": "0b1122de",
   "metadata": {
    "vscode": {
     "languageId": "plaintext"
    }
   },
   "outputs": [],
   "source": [
    "# Combine relevant features for recommendations\n",
    "df['combined_features'] = df['genre'] + ' ' + df['title'] + ' ' + df['overview']\n",
    "print(\"\\nCombined Features Example:\")\n",
    "print(df['combined_features'].head())"
   ]
  },
  {
   "cell_type": "code",
   "execution_count": null,
   "id": "ee6191f9",
   "metadata": {
    "vscode": {
     "languageId": "plaintext"
    }
   },
   "outputs": [],
   "source": [
    "df['genre'] = df['genre'].fillna(\"\")\n",
    "df['title'] = df['title'].fillna(\"\")\n",
    "df['overview'] = df['overview'].fillna(\"\")\n",
    "\n",
    "# Combine relevant features\n",
    "df['combined_features'] = df['genre'] + ' ' + df['title'] + ' ' + df['overview']\n",
    "\n",
    "# Check for empty dataset\n",
    "if df.shape[0] == 0:\n",
    "    raise ValueError(\"Dataset is empty. Please check the data.\")\n",
    "\n",
    "# Create the count matrix\n",
    "cv = CountVectorizer(stop_words='english')\n",
    "count_matrix = cv.fit_transform(df['combined_features'])\n"
   ]
  },
  {
   "cell_type": "code",
   "execution_count": null,
   "id": "313d1bff",
   "metadata": {
    "vscode": {
     "languageId": "plaintext"
    }
   },
   "outputs": [],
   "source": [
    "cosine_sim = cosine_similarity(count_matrix)"
   ]
  },
  {
   "cell_type": "code",
   "execution_count": null,
   "id": "62bb540e",
   "metadata": {
    "vscode": {
     "languageId": "plaintext"
    }
   },
   "outputs": [],
   "source": [
    "with open(r'C:\\Users\\user\\Desktop\\Machine Learning Projects\\Movie Recommender System\\dataset\\similarity.pkl', 'wb') as file:\n",
    "    pickle.dump(cosine_sim, file)"
   ]
  },
  {
   "cell_type": "code",
   "execution_count": null,
   "id": "626fe355",
   "metadata": {
    "vscode": {
     "languageId": "plaintext"
    }
   },
   "outputs": [],
   "source": [
    "# Test Recommendation\n",
    "def recommend(movie_title):\n",
    "    try:\n",
    "        index = df[df['title'] == movie_title].index[0]\n",
    "        distances = cosine_sim[index]\n",
    "        movie_list = sorted(list(enumerate(distances)), reverse=True, key=lambda x: x[1])[1:6]\n",
    "        return [df.iloc[i[0]]['title'] for i in movie_list]\n",
    "    except IndexError:\n",
    "        return [\"Movie not found in the dataset.\"]"
   ]
  },
  {
   "cell_type": "code",
   "execution_count": null,
   "id": "0705b824",
   "metadata": {
    "vscode": {
     "languageId": "plaintext"
    }
   },
   "outputs": [],
   "source": [
    "recommendations = recommend(\"The Godfather\")\n",
    "print(\"\\nRecommendations for 'The Godfather':\")\n",
    "print(recommendations)"
   ]
  }
 ],
 "metadata": {
  "kernelspec": {
   "display_name": "Python [conda env:base] *",
   "language": "python",
   "name": "conda-base-py"
  },
  "language_info": {
   "codemirror_mode": {
    "name": "ipython",
    "version": 3
   },
   "file_extension": ".py",
   "mimetype": "text/x-python",
   "name": "python",
   "nbconvert_exporter": "python",
   "pygments_lexer": "ipython3",
   "version": "3.12.4"
  }
 },
 "nbformat": 4,
 "nbformat_minor": 5
}
